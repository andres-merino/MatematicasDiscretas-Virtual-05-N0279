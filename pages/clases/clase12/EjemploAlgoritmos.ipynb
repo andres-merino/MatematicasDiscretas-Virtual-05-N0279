{
  "cells": [
    {
      "cell_type": "markdown",
      "metadata": {},
      "source": [
        "<a href=\"https://colab.research.google.com/github/andres-merino/MatematicasDiscretas-Virtual-05-N0279/blob/main/pages/clases/clase12/EjemploAlgoritmos.ipynb\" target=\"_parent\"><img src=\"https://colab.research.google.com/assets/colab-badge.svg\" alt=\"Open In Colab\"/></a>"
      ]
    },
    {
      "cell_type": "markdown",
      "metadata": {
        "id": "g5AWDUU3C1zg"
      },
      "source": [
        "<table style=\"border: none; border-collapse: collapse;\">\n",
        "    <tr>\n",
        "        <td style=\"width: 20%; vertical-align: middle; padding-right: 10px;\">\n",
        "            <img src=\"https://i.imgur.com/nt7hloA.png\" width=\"100\">\n",
        "        </td>\n",
        "        <td style=\"width: 2px; text-align: center;\">\n",
        "            <font color=\"#0030A1\" size=\"7\">|</font><br>\n",
        "            <font color=\"#0030A1\" size=\"7\">|</font>\n",
        "        </td>\n",
        "        <td>\n",
        "            <p style=\"font-variant: small-caps;\"><font color=\"#0030A1\" size=\"5\">\n",
        "                <b>Catálogo STEM</b>\n",
        "            </font> </p>\n",
        "            <p style=\"font-variant: small-caps;\"><font color=\"#0030A1\" size=\"4\">\n",
        "                Ejemplos de Algoritmos\n",
        "            </font></p>\n",
        "            <p style=\"font-style: oblique;\"><font color=\"#0030A1\" size=\"3\">\n",
        "                Andrés Merino &bull; Septiembre 2025\n",
        "            </font></p>\n",
        "        </td>  \n",
        "    </tr>\n",
        "</table>"
      ]
    },
    {
      "cell_type": "markdown",
      "metadata": {
        "id": "Bxa9gBA7MvSU"
      },
      "source": [
        "---\n",
        "## <font color='264CC7'> Algoritmos de ordenamiento</font>\n",
        "---"
      ]
    },
    {
      "cell_type": "markdown",
      "metadata": {
        "id": "0oEuL2uJM6zS"
      },
      "source": [
        "### <font color='264CC7'>Algoritmos de la burbuja</font>\n",
        "\n",
        "La ordenación por burbuja es un método simple que recorre repetidamente la lista, comparando pares de elementos adyacentes y intercambiándolos si están en el orden incorrecto. Es fácil de entender e implementar, útil para listas pequeñas o fines pedagógicos.\n",
        "\n",
        "```text\n",
        "Datos: una lista de números reales (a₁, a₂, …, aₙ) y un número entero n\n",
        "Resultado: la lista ordenada\n",
        "\n",
        "Función OrdenBurbuja(a₁, a₂, …, aₙ):\n",
        "    para i ← 1 hasta n − 1 hacer\n",
        "        para j ← 1 hasta n − i hacer\n",
        "            si aⱼ > aⱼ₊₁ entonces\n",
        "                intercambiar(aⱼ, aⱼ₊₁)\n",
        "    devolver (a₁, a₂, …, aₙ)\n",
        "```\n",
        "\n",
        "A continuación se da el código en Python para esta aproximación."
      ]
    },
    {
      "cell_type": "code",
      "execution_count": 1,
      "metadata": {},
      "outputs": [],
      "source": [
        "def OrdenBurbuja(a):\n",
        "    for i in range(len(a)-2):\n",
        "        for j in range(len(a)-i-1):\n",
        "            if a[j] > a[j+1]:\n",
        "                a[j],a[j+1] = a[j+1],a[j]\n",
        "    return a"
      ]
    },
    {
      "cell_type": "markdown",
      "metadata": {},
      "source": [
        "**Ejemplos de uso (OrdenBurbuja)**\n"
      ]
    },
    {
      "cell_type": "code",
      "execution_count": 2,
      "metadata": {},
      "outputs": [
        {
          "name": "stdout",
          "output_type": "stream",
          "text": [
            "[1, 2, 5, 5, 6, 9]\n",
            "[]\n",
            "[1]\n"
          ]
        }
      ],
      "source": [
        "# Ejemplos:\n",
        "print(OrdenBurbuja([5, 2, 9, 1, 5, 6]))  # [1, 2, 5, 5, 6, 9]\n",
        "print(OrdenBurbuja([]))               # []\n",
        "print(OrdenBurbuja([1]))              # [1]"
      ]
    },
    {
      "cell_type": "markdown",
      "metadata": {},
      "source": [
        "### <font color='264CC7'>Algoritmos por inserción</font>\n",
        "\n",
        "El algoritmo por inserción construye la lista ordenada elemento a elemento: toma cada nuevo elemento y lo inserta en la posición correcta dentro de la porción ya ordenada. Es eficiente para listas pequeñas o casi ordenadas.\n",
        "\n",
        "```text\n",
        "Datos: una lista de números reales (a₁, a₂, …, aₙ) y un número entero n\n",
        "Resultado: la lista ordenada\n",
        "\n",
        "Función OrdenInserción(a₁, a₂, …, aₙ):\n",
        "    para j ← 2 hasta n hacer\n",
        "        i ← 1    /* posición donde se insertará el elemento */\n",
        "        mientras aⱼ > aᵢ hacer\n",
        "            i ← i + 1\n",
        "        m ← aⱼ   /* valor temporal a insertar */\n",
        "        para k ← 0 hasta j − i − 1 hacer\n",
        "            aⱼ₋ₖ ← aⱼ₋ₖ₋₁\n",
        "        aᵢ ← m\n",
        "    devolver (a₁, a₂, …, aₙ)\n",
        "\n",
        "```\n",
        "\n",
        "A continuación se da el código en Python para esta aproximación."
      ]
    },
    {
      "cell_type": "code",
      "execution_count": 3,
      "metadata": {},
      "outputs": [],
      "source": [
        "def OrdenInsercion(a):\n",
        "    for j in range(1,len(a)):\n",
        "        i = 0\n",
        "        while a[j] > a[i]:\n",
        "            i = i + 1\n",
        "        m = a[j]\n",
        "        for k in range(j-i):\n",
        "            a[j-k] = a[j-k-1]\n",
        "        a[i] = m\n",
        "    return a"
      ]
    },
    {
      "cell_type": "markdown",
      "metadata": {},
      "source": [
        "**Ejemplos de uso (OrdenInsercion)**\n"
      ]
    },
    {
      "cell_type": "code",
      "execution_count": 4,
      "metadata": {},
      "outputs": [
        {
          "name": "stdout",
          "output_type": "stream",
          "text": [
            "[1, 1, 3, 4, 5, 9]\n",
            "[2, 2, 2]\n",
            "[-1, 0, 10]\n"
          ]
        }
      ],
      "source": [
        "# Ejemplos:\n",
        "print(OrdenInsercion([3, 1, 4, 1, 5, 9]))  # [1, 1, 3, 4, 5, 9]\n",
        "print(OrdenInsercion([2, 2, 2]))           # [2, 2, 2]\n",
        "print(OrdenInsercion([10, -1, 0]))        # [-1, 0, 10]"
      ]
    },
    {
      "cell_type": "markdown",
      "metadata": {},
      "source": [
        "---\n",
        "## <font color='264CC7'> Algoritmos recursivos</font>\n",
        "---"
      ]
    },
    {
      "cell_type": "markdown",
      "metadata": {},
      "source": [
        "### <font color='264CC7'>Algoritmos para calcular el factorial</font>\n",
        "\n",
        "El factorial de un entero no negativo $n$ (denotado $n!$) es el producto de todos los enteros positivos hasta $n$. La definición recursiva utiliza la condición base $n=0$ con valor 1 y la relación $n! = n*(n-1)!$.\n",
        "\n",
        "```text\n",
        "Datos: un número entero n\n",
        "Resultado: el factorial de n\n",
        "\n",
        "Función Factorial(n):\n",
        "    si n = 0 entonces\n",
        "        devolver 1\n",
        "    sino\n",
        "        devolver n * Factorial(n − 1)\n",
        "```\n",
        "\n",
        "A continuación se da el código en Python para esta definición recursiva."
      ]
    },
    {
      "cell_type": "code",
      "execution_count": 5,
      "metadata": {},
      "outputs": [],
      "source": [
        "def Factorial(n):\n",
        "    if n == 0:\n",
        "        return 1\n",
        "    else:\n",
        "        return n * Factorial(n-1)\n"
      ]
    },
    {
      "cell_type": "markdown",
      "metadata": {},
      "source": [
        "**Ejemplos de uso (Factorial)**\n"
      ]
    },
    {
      "cell_type": "code",
      "execution_count": 6,
      "metadata": {},
      "outputs": [
        {
          "name": "stdout",
          "output_type": "stream",
          "text": [
            "1\n",
            "120\n",
            "5040\n"
          ]
        }
      ],
      "source": [
        "# Ejemplos:\n",
        "print(Factorial(0))  # 1\n",
        "print(Factorial(5))  # 120\n",
        "print(Factorial(7))  # 5040"
      ]
    },
    {
      "cell_type": "markdown",
      "metadata": {},
      "source": [
        "### <font color='264CC7'>Algoritmos para búsqueda binaria</font>\n",
        "\n",
        "La búsqueda binaria localiza un valor en una lista ordenada dividiendo repetidamente el espacio de búsqueda por la mitad. Requiere que la lista esté ordenada y funciona en tiempo logarítmico en el mejor de los casos.\n",
        "\n",
        "```text\n",
        "Datos: Lista ordenada A = (a₁, a₂, …, aₙ), con n ∈ ℕ*; valor x ∈ ℝ.\n",
        "Resultado: Posición p tal que A[p] = x; en caso contrario, −1.\n",
        "\n",
        "Función BusquedaBinaria(A, x):\n",
        "    si A está vacía entonces\n",
        "        devolver −1\n",
        "\n",
        "    medio ← ⌊ |A| / 2 ⌋\n",
        "    \n",
        "    si A[medio] = x entonces\n",
        "        devolver medio\n",
        "    si x < A[medio] entonces\n",
        "        devolver BusquedaBinaria(A[1..medio−1], x)\n",
        "    si no\n",
        "        p ← BusquedaBinaria(A[medio+1..n], x)\n",
        "        si p = −1 entonces\n",
        "            devolver −1\n",
        "        en otro caso\n",
        "            devolver p + medio + 1\n",
        "\n",
        "```\n",
        "\n",
        "A continuación se da el código en Python para esta versión recursiva de búsqueda binaria."
      ]
    },
    {
      "cell_type": "code",
      "execution_count": 7,
      "metadata": {},
      "outputs": [],
      "source": [
        "def busqueda_binaria(A, x):\n",
        "    if len(A) == 0:\n",
        "        return -1\n",
        "\n",
        "    medio = len(A) // 2\n",
        "\n",
        "    if A[medio] == x:\n",
        "        return medio\n",
        "    elif x < A[medio]:\n",
        "        return busqueda_binaria(A[:medio], x)\n",
        "    else:\n",
        "        pos = busqueda_binaria(A[medio+1:], x)\n",
        "        if pos == -1:\n",
        "            return -1\n",
        "        else:\n",
        "            return medio + 1 + pos\n"
      ]
    },
    {
      "cell_type": "markdown",
      "metadata": {},
      "source": [
        "**Ejemplos de uso (busqueda_binaria)**\n"
      ]
    },
    {
      "cell_type": "code",
      "execution_count": 8,
      "metadata": {},
      "outputs": [
        {
          "name": "stdout",
          "output_type": "stream",
          "text": [
            "3\n",
            "-1\n",
            "-1\n"
          ]
        }
      ],
      "source": [
        "# Ejemplos: la función retorna índices en base 0 o -1 si no encuentra el elemento\n",
        "A = [1, 3, 5, 7, 9, 11]\n",
        "print(busqueda_binaria(A, 7))  # 3\n",
        "print(busqueda_binaria(A, 2))  # -1\n",
        "print(busqueda_binaria([], 1)) # -1"
      ]
    },
    {
      "cell_type": "markdown",
      "metadata": {},
      "source": []
    }
  ],
  "metadata": {
    "colab": {
      "name": "Resumen01.ipynb",
      "provenance": []
    },
    "kernelspec": {
      "display_name": "Python 3",
      "language": "python",
      "name": "python3"
    },
    "language_info": {
      "codemirror_mode": {
        "name": "ipython",
        "version": 3
      },
      "file_extension": ".py",
      "mimetype": "text/x-python",
      "name": "python",
      "nbconvert_exporter": "python",
      "pygments_lexer": "ipython3",
      "version": "3.11.3"
    }
  },
  "nbformat": 4,
  "nbformat_minor": 0
}
