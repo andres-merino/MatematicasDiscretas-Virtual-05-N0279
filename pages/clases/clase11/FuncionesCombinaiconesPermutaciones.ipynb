{
  "cells": [
    {
      "cell_type": "markdown",
      "metadata": {},
      "source": [
        "<a href=\"https://colab.research.google.com/github/andres-merino/MatematicasDiscretas-Virtual-05-N0279/blob/main/pages/clases/clase11/FuncionesCombinacionesPermutaciones.ipynb\" target=\"_parent\"><img src=\"https://colab.research.google.com/assets/colab-badge.svg\" alt=\"Open In Colab\"/></a>"
      ]
    },
    {
      "cell_type": "markdown",
      "metadata": {
        "id": "g5AWDUU3C1zg"
      },
      "source": [
        "<table style=\"border: none; border-collapse: collapse;\">\n",
        "    <tr>\n",
        "        <td style=\"width: 20%; vertical-align: middle; padding-right: 10px;\">\n",
        "            <img src=\"https://i.imgur.com/nt7hloA.png\" width=\"100\">\n",
        "        </td>\n",
        "        <td style=\"width: 2px; text-align: center;\">\n",
        "            <font color=\"#0030A1\" size=\"7\">|</font><br>\n",
        "            <font color=\"#0030A1\" size=\"7\">|</font>\n",
        "        </td>\n",
        "        <td>\n",
        "            <p style=\"font-variant: small-caps;\"><font color=\"#0030A1\" size=\"5\">\n",
        "                <b>Catálogo STEM</b>\n",
        "            </font> </p>\n",
        "            <p style=\"font-variant: small-caps;\"><font color=\"#0030A1\" size=\"4\">\n",
        "                Combinaciones y Permutaciones\n",
        "            </font></p>\n",
        "            <p style=\"font-style: oblique;\"><font color=\"#0030A1\" size=\"3\">\n",
        "                Andrés Merino &bull; Agosto 2025\n",
        "            </font></p>\n",
        "        </td>  \n",
        "    </tr>\n",
        "</table>"
      ]
    },
    {
      "cell_type": "markdown",
      "metadata": {
        "id": "Bxa9gBA7MvSU"
      },
      "source": [
        "---\n",
        "## <font color='264CC7'> Generación de r-combinaciones</font>\n",
        "---"
      ]
    },
    {
      "cell_type": "markdown",
      "metadata": {
        "id": "0oEuL2uJM6zS"
      },
      "source": [
        "A continuación se presenta el código en Python para la generación de todas las $r$-combinaciones de un conjunto de $n$ elementos listadas en orden lexicográfico.\n",
        "\n"
      ]
    },
    {
      "cell_type": "code",
      "execution_count": 8,
      "metadata": {},
      "outputs": [],
      "source": [
        "from math import comb\n",
        "def Combinaciones(n,r):\n",
        "    s = [0]*r\n",
        "    for i in range(r): #generamos la primera r-combinación\n",
        "        s[i] = i+1 \n",
        "    print(s)\n",
        "    \n",
        "    for i in range( 2 , comb(n,r)  + 1 ): #generamos las combinaciones que restan en orden lexicográfico\n",
        "        m = r - 1\n",
        "        val_max = n\n",
        "        while ( s[m] == val_max ): #buscamos el primer dígito, desde la derecha, que no haya alcanzado su valor máximo\n",
        "            m = m - 1\n",
        "            val_max = val_max - 1\n",
        "        s[m] = s[m] + 1 #incrementamos en 1 el m-ésimo dígto \n",
        "        for j in range( m + 1 , r ): #construimos el resto de la cadena\n",
        "            s[j] = s[j-1] + 1\n",
        "        print(s)"
      ]
    },
    {
      "cell_type": "markdown",
      "metadata": {},
      "source": [
        "El código anterior genera todas las $r$-combinaciones de un conjunto de $n$ elementos en orden lexicográfico. Utiliza un arreglo `s` para representar la combinación actual y la función `comb` para calcular el número total de combinaciones. El algoritmo avanza incrementando los elementos de la combinación desde la derecha, asegurando que cada combinación sea única y esté en orden.\n",
        "\n",
        "- Se inicializa la primera combinación como `[1, 2, ..., r]`.\n",
        "- En cada iteración, se busca el primer dígito desde la derecha que pueda incrementarse sin exceder su valor máximo.\n",
        "- Se actualizan los valores siguientes para mantener el orden lexicográfico.\n",
        "- Se imprime cada combinación generada."
      ]
    },
    {
      "cell_type": "code",
      "execution_count": 9,
      "metadata": {},
      "outputs": [
        {
          "name": "stdout",
          "output_type": "stream",
          "text": [
            "[1, 2, 3]\n",
            "[1, 2, 4]\n",
            "[1, 2, 5]\n",
            "[1, 3, 4]\n",
            "[1, 3, 5]\n",
            "[1, 4, 5]\n",
            "[2, 3, 4]\n",
            "[2, 3, 5]\n",
            "[2, 4, 5]\n",
            "[3, 4, 5]\n"
          ]
        }
      ],
      "source": [
        "# Ejemplo de uso: generar todas las 3-combinaciones de un conjunto de 5 elementos\n",
        "Combinaciones(5,3)"
      ]
    },
    {
      "cell_type": "markdown",
      "metadata": {},
      "source": [
        "---\n",
        "## <font color='264CC7'> Generación de permutaciones</font>\n",
        "---"
      ]
    },
    {
      "cell_type": "markdown",
      "metadata": {},
      "source": [
        "A continuación se presenta el algoritmo para generar todas las permutaciones de un conjunto de $n$ elementos."
      ]
    },
    {
      "cell_type": "code",
      "execution_count": 10,
      "metadata": {},
      "outputs": [],
      "source": [
        "from math import factorial\n",
        "\n",
        "def permutaciones(n):\n",
        "    s = [0]*n\n",
        "    for i in range(n): #generamos la primera permutación\n",
        "        s[i] = i+1\n",
        "    print(s)\n",
        "    \n",
        "    for i in range( 1 , factorial(n) ): #generamos las permutaciones restantes en orden lexicográfico\n",
        "        m = n-2\n",
        "        while (s[m] > s[m+1]): #buscamos el primer incremento desde la derecha\n",
        "            m = m-1\n",
        "        k = n-1\n",
        "        while (s[m] > s[k]): #buscamos el primer elemento, desde la derecha, que sea mayor que s[m]\n",
        "            k = k-1\n",
        "        s[m],s[k] = s[k],s[m] #intercambiamos las posiciones de s[m] y s[k]\n",
        "        p = m+1\n",
        "        q = n-1\n",
        "        while (p < q): #tomamos la cadena desde la posición m+1 hasta el final y la invertimos\n",
        "            s[p],s[q] = s[q],s[p]\n",
        "            p = p+1\n",
        "            q = q-1\n",
        "        print(s)"
      ]
    },
    {
      "cell_type": "markdown",
      "metadata": {},
      "source": [
        "El código anterior genera todas las permutaciones de un conjunto de $n$ elementos en orden lexicográfico. Utiliza un arreglo `s` para representar la permutación actual y la función `factorial` para calcular el número total de permutaciones. El algoritmo busca el primer incremento desde la derecha, intercambia elementos y luego invierte la subcadena final para obtener la siguiente permutación.\n",
        "\n",
        "- Se inicializa la primera permutación como `[1, 2, ..., n]`.\n",
        "- En cada iteración, se identifica el punto donde se puede incrementar la secuencia.\n",
        "- Se intercambian los elementos necesarios y se invierte la parte final para mantener el orden lexicográfico.\n",
        "- Se imprime cada permutación generada."
      ]
    },
    {
      "cell_type": "code",
      "execution_count": 11,
      "metadata": {},
      "outputs": [
        {
          "name": "stdout",
          "output_type": "stream",
          "text": [
            "[1, 2, 3, 4]\n",
            "[1, 2, 4, 3]\n",
            "[1, 3, 2, 4]\n",
            "[1, 3, 4, 2]\n",
            "[1, 4, 2, 3]\n",
            "[1, 4, 3, 2]\n",
            "[2, 1, 3, 4]\n",
            "[2, 1, 4, 3]\n",
            "[2, 3, 1, 4]\n",
            "[2, 3, 4, 1]\n",
            "[2, 4, 1, 3]\n",
            "[2, 4, 3, 1]\n",
            "[3, 1, 2, 4]\n",
            "[3, 1, 4, 2]\n",
            "[3, 2, 1, 4]\n",
            "[3, 2, 4, 1]\n",
            "[3, 4, 1, 2]\n",
            "[3, 4, 2, 1]\n",
            "[4, 1, 2, 3]\n",
            "[4, 1, 3, 2]\n",
            "[4, 2, 1, 3]\n",
            "[4, 2, 3, 1]\n",
            "[4, 3, 1, 2]\n",
            "[4, 3, 2, 1]\n"
          ]
        }
      ],
      "source": [
        "# Ejemplo de uso: generar todas las permutaciones de un conjunto de 4 elementos\n",
        "permutaciones(4)"
      ]
    }
  ],
  "metadata": {
    "colab": {
      "name": "Resumen01.ipynb",
      "provenance": []
    },
    "kernelspec": {
      "display_name": "Python 3",
      "language": "python",
      "name": "python3"
    },
    "language_info": {
      "codemirror_mode": {
        "name": "ipython",
        "version": 3
      },
      "file_extension": ".py",
      "mimetype": "text/x-python",
      "name": "python",
      "nbconvert_exporter": "python",
      "pygments_lexer": "ipython3",
      "version": "3.11.3"
    }
  },
  "nbformat": 4,
  "nbformat_minor": 0
}
