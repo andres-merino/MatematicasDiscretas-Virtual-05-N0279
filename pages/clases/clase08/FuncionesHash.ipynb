{
  "cells": [
    {
      "cell_type": "markdown",
      "metadata": {},
      "source": [
        "<a href=\"https://colab.research.google.com/github/andres-merino/MatematicasDiscretas-Virtual-05-N0279/blob/main/pages/clases/clase08/FuncionesHash.ipynb\" target=\"_parent\"><img src=\"https://colab.research.google.com/assets/colab-badge.svg\" alt=\"Open In Colab\"/></a>"
      ]
    },
    {
      "cell_type": "markdown",
      "metadata": {
        "id": "g5AWDUU3C1zg"
      },
      "source": [
        "<table style=\"border: none; border-collapse: collapse;\">\n",
        "    <tr>\n",
        "        <td style=\"width: 20%; vertical-align: middle; padding-right: 10px;\">\n",
        "            <img src=\"https://i.imgur.com/nt7hloA.png\" width=\"100\">\n",
        "        </td>\n",
        "        <td style=\"width: 2px; text-align: center;\">\n",
        "            <font color=\"#0030A1\" size=\"7\">|</font><br>\n",
        "            <font color=\"#0030A1\" size=\"7\">|</font>\n",
        "        </td>\n",
        "        <td>\n",
        "            <p style=\"font-variant: small-caps;\"><font color=\"#0030A1\" size=\"5\">\n",
        "                <b>Catálogo STEM</b>\n",
        "            </font> </p>\n",
        "            <p style=\"font-variant: small-caps;\"><font color=\"#0030A1\" size=\"4\">\n",
        "                Relaciones de Equivalencia y Funciones Hash\n",
        "            </font></p>\n",
        "            <p style=\"font-style: oblique;\"><font color=\"#0030A1\" size=\"3\">\n",
        "                Andrés Merino &bull; Agosto 2025\n",
        "            </font></p>\n",
        "        </td>  \n",
        "    </tr>\n",
        "</table>"
      ]
    },
    {
      "cell_type": "markdown",
      "metadata": {
        "id": "Bxa9gBA7MvSU"
      },
      "source": [
        "---\n",
        "## <font color='264CC7'> Relaciones de equivalencia</font>\n",
        "---"
      ]
    },
    {
      "cell_type": "markdown",
      "metadata": {
        "id": "0oEuL2uJM6zS"
      },
      "source": [
        "Una **relación de equivalencia** $R$ sobre un conjunto $A$ cumple:\n",
        "\n",
        "1. **Reflexividad**: $a\\, R\\, a$\n",
        "2. **Simetría**: $a\\, R\\, b \\;\\Rightarrow\\; b\\, R\\, a$\n",
        "3. **Transitividad**: $a\\, R\\, b$ y $b\\, R\\, c \\;\\Rightarrow\\; a\\, R\\, c$\n",
        "\n",
        "Cada relación de equivalencia particiona $A$ en **clases de equivalencia**.\n"
      ]
    },
    {
      "cell_type": "markdown",
      "metadata": {},
      "source": [
        "---\n",
        "## <font color='264CC7'> ¿Qué es un hash?</font>\n",
        "---"
      ]
    },
    {
      "cell_type": "markdown",
      "metadata": {},
      "source": [
        "Un **hash** es una representación numérica fija de un dato, usada para identificarlo de forma eficiente. Se aplica ampliamente en:\n",
        "\n",
        "* **Guardado de contraseñas**: en lugar de almacenar la contraseña original, se guarda su *hash*. Cuando el usuario ingresa su contraseña, se calcula su hash y se compara. Si coinciden, se asume que las contraseñas son equivalentes.\n",
        "* **Revisión de versiones**: sistemas como Git usan hashes para identificar versiones de archivos. Si dos versiones tienen el mismo hash, se consideran idénticas.\n",
        "\n",
        "De manera formal, un hash es una función y `hash(x)` devuelve un entero (en ocasiones un hexadecimal) que sirve como **identificador** rápido de `x`. En este sentido, el hash puede definir una relación de equivalencia:\n",
        "$$\n",
        "x \\sim y  \\Leftrightarrow   hash(x) = hash(y).\n",
        "$$\n",
        "\n",
        "Aquí, las clases de equivalencia son los grupos de elementos que comparten el mismo hash."
      ]
    },
    {
      "cell_type": "markdown",
      "metadata": {},
      "source": [
        "Se esperaría que el hash de dos objetos distintos sea diferente, pero esto no siempre es posible debido a que el hash es una función que mapea un espacio potencialmente infinito (todos los posibles objetos) a un espacio finito (los enteros). Por lo tanto, es inevitable que diferentes objetos puedan producir el mismo hash, lo que se conoce como **colisión de hash**."
      ]
    },
    {
      "cell_type": "markdown",
      "metadata": {},
      "source": [
        "Veamos algunos ejemplos simples. Iniciemos con un hash que determine la longitud de un texto:"
      ]
    },
    {
      "cell_type": "code",
      "execution_count": 1,
      "metadata": {},
      "outputs": [],
      "source": [
        "def hash_text_length(text):\n",
        "    return len(text)"
      ]
    },
    {
      "cell_type": "markdown",
      "metadata": {},
      "source": [
        "Si tenemos un conjunto de datos, podemos generar las clases de equivalencia dadas por el hash. Primero calculemos algunos hashes:"
      ]
    },
    {
      "cell_type": "code",
      "execution_count": 2,
      "metadata": {},
      "outputs": [
        {
          "name": "stdout",
          "output_type": "stream",
          "text": [
            "Hash de 'hola': 4\n",
            "Hash de 'chat': 4\n",
            "Hash de 'gpt': 3\n"
          ]
        }
      ],
      "source": [
        "# Datos base: \n",
        "datos = [\"hola\", \"adiós\", \"chat\", \"gpt\", \"IA\", \"bot\", \"code\", \"rules\"]\n",
        "\n",
        "# Hash de hola, chat y gpt\n",
        "print(\"Hash de 'hola':\", hash_text_length(\"hola\"))\n",
        "print(\"Hash de 'chat':\", hash_text_length(\"chat\"))\n",
        "print(\"Hash de 'gpt':\", hash_text_length(\"gpt\"))\n"
      ]
    },
    {
      "cell_type": "markdown",
      "metadata": {},
      "source": [
        "Como podemos ver, los hashes de \"hola\" y \"chat\" son iguales, lo que significa que pertenecen a la misma clase de equivalencia. Esto es un ejemplo de colisión de hash, donde diferentes entradas producen el mismo hash.\n",
        "\n",
        "Ahora, determinemos las clases de equivalencia para todos los datos."
      ]
    },
    {
      "cell_type": "code",
      "execution_count": 3,
      "metadata": {
        "id": "zWileCb9ThIh"
      },
      "outputs": [
        {
          "name": "stdout",
          "output_type": "stream",
          "text": [
            "Hash: 4 -> Textos: ['hola', 'chat', 'code']\n",
            "Hash: 5 -> Textos: ['adiós', 'rules']\n",
            "Hash: 3 -> Textos: ['gpt', 'bot']\n",
            "Hash: 2 -> Textos: ['IA']\n"
          ]
        }
      ],
      "source": [
        "# Generación de clases de equivalencia\n",
        "clases_equivalencia = {}\n",
        "for texto in datos:\n",
        "    hash_val = hash_text_length(texto)\n",
        "    if hash_val not in clases_equivalencia:\n",
        "        clases_equivalencia[hash_val] = []\n",
        "    clases_equivalencia[hash_val].append(texto)\n",
        "\n",
        "# Mostrando las clases de equivalencia\n",
        "for hash_val, textos in clases_equivalencia.items():\n",
        "    print(f\"Hash: {hash_val} -> Textos: {textos}\")"
      ]
    },
    {
      "cell_type": "markdown",
      "metadata": {},
      "source": [
        "Como podemos ver, este hash no es muy bueno dado que existen clases de equivalencia con múltiples elementos, es decir, existen colisiones."
      ]
    },
    {
      "cell_type": "markdown",
      "metadata": {},
      "source": [
        "Ahora, consideremos otro hash que tenga en cuenta el contenido de los textos, no solo su longitud. Por ejemplo, podríamos usar una función hash más compleja que combine que tome el ordinal de cada caracter del texto (por ejemplo, el ordinal de 'a' es 97), los sume y, para tener un número delimitado, aplique el módulo de un número primo."
      ]
    },
    {
      "cell_type": "code",
      "execution_count": 4,
      "metadata": {},
      "outputs": [],
      "source": [
        "def hash_text_content(texto):\n",
        "    contenido_hash = sum(ord(caracter) for caracter in texto) % 31\n",
        "    return contenido_hash"
      ]
    },
    {
      "cell_type": "markdown",
      "metadata": {},
      "source": [
        "Generemos las clases de equivalencia:"
      ]
    },
    {
      "cell_type": "code",
      "execution_count": 5,
      "metadata": {},
      "outputs": [
        {
          "name": "stdout",
          "output_type": "stream",
          "text": [
            "Hash: 17 -> Textos: ['hola']\n",
            "Hash: 9 -> Textos: ['adiós']\n",
            "Hash: 13 -> Textos: ['chat']\n",
            "Hash: 21 -> Textos: ['gpt']\n",
            "Hash: 14 -> Textos: ['IA']\n",
            "Hash: 15 -> Textos: ['bot']\n",
            "Hash: 8 -> Textos: ['code']\n",
            "Hash: 28 -> Textos: ['rules']\n"
          ]
        }
      ],
      "source": [
        "# Generación de clases de equivalencia\n",
        "clases_equivalencia = {}\n",
        "for texto in datos:\n",
        "    hash_val = hash_text_content(texto)\n",
        "    if hash_val not in clases_equivalencia:\n",
        "        clases_equivalencia[hash_val] = []\n",
        "    clases_equivalencia[hash_val].append(texto)\n",
        "\n",
        "# Mostrando las clases de equivalencia\n",
        "for hash_val, textos in clases_equivalencia.items():\n",
        "    print(f\"Hash: {hash_val} -> Textos: {textos}\")"
      ]
    },
    {
      "cell_type": "markdown",
      "metadata": {},
      "source": [
        "Dado que todas las clases de equivalencia son disjuntas, podemos afirmar que el hash que hemos implementado es una función de hash válida en nuestro conjunto de datos. Pero si ampliamos nuestro conjunto de datos, es posible que se produzcan colisiones. \n"
      ]
    },
    {
      "cell_type": "code",
      "execution_count": 6,
      "metadata": {},
      "outputs": [
        {
          "name": "stdout",
          "output_type": "stream",
          "text": [
            "Hash: 17 -> Textos: ['hola']\n",
            "Hash: 9 -> Textos: ['adiós']\n",
            "Hash: 13 -> Textos: ['chat']\n",
            "Hash: 21 -> Textos: ['gpt']\n",
            "Hash: 14 -> Textos: ['IA']\n",
            "Hash: 15 -> Textos: ['bot']\n",
            "Hash: 8 -> Textos: ['code']\n",
            "Hash: 28 -> Textos: ['rules', 'amor']\n"
          ]
        }
      ],
      "source": [
        "# Datos base: \n",
        "datos = [\"hola\", \"adiós\", \"chat\", \"gpt\", \"IA\", \"bot\", \"code\", \"rules\", \"amor\"]\n",
        "\n",
        "# Generación de clases de equivalencia\n",
        "clases_equivalencia = {}\n",
        "for texto in datos:\n",
        "    hash_val = hash_text_content(texto)\n",
        "    if hash_val not in clases_equivalencia:\n",
        "        clases_equivalencia[hash_val] = []\n",
        "    clases_equivalencia[hash_val].append(texto)\n",
        "\n",
        "# Mostrando las clases de equivalencia\n",
        "for hash_val, textos in clases_equivalencia.items():\n",
        "    print(f\"Hash: {hash_val} -> Textos: {textos}\")"
      ]
    },
    {
      "cell_type": "markdown",
      "metadata": {},
      "source": [
        "Como vemos, solo agregando una palabra más, ya tenemos una clase de equivalencia con dos elementos, \"rules\" y \"amor\". En este caso, nuestro hash ha generado una colisión.\n"
      ]
    },
    {
      "cell_type": "markdown",
      "metadata": {},
      "source": [
        "Un ejemplo de hash que se usan en la práctica es el algoritmo SHA-1, que produce un hash de 160 bits.\n"
      ]
    },
    {
      "cell_type": "code",
      "execution_count": 7,
      "metadata": {},
      "outputs": [
        {
          "name": "stdout",
          "output_type": "stream",
          "text": [
            "Hash: 99800b85d3383e3a2fb45eb7d0066a4879a9dad0 -> Textos: ['hola']\n",
            "Hash: 01674e46d2551bcc1778e001e09ceb47a0ee31f9 -> Textos: ['adiós']\n",
            "Hash: 7ecde348ff9cda2c3ba69a0c4543365039d0d65b -> Textos: ['chat']\n",
            "Hash: b84ab73df2228c86f0ba49223e222a70948918a6 -> Textos: ['gpt']\n",
            "Hash: d41daf5937a59238d6dd74dc0d89dea1307a99f8 -> Textos: ['IA']\n",
            "Hash: c71e7261d37a4f6ae4cfb0cbd79081310a237e67 -> Textos: ['bot']\n",
            "Hash: e6fb06210fafc02fd7479ddbed2d042cc3a5155e -> Textos: ['code']\n",
            "Hash: caa155adf81fddd29ab4b21a147927fb0295eb53 -> Textos: ['rules']\n",
            "Hash: f56fe68c0a0ae4ee32e66f54df90db08ad4334eb -> Textos: ['amor']\n"
          ]
        }
      ],
      "source": [
        "import hashlib\n",
        "\n",
        "# Generación de clases de equivalencia\n",
        "clases_equivalencia = {}\n",
        "for texto in datos:\n",
        "    hash_val = hashlib.sha1(texto.encode()).hexdigest()\n",
        "    if hash_val not in clases_equivalencia:\n",
        "        clases_equivalencia[hash_val] = []\n",
        "    clases_equivalencia[hash_val].append(texto)\n",
        "\n",
        "# Mostrando las clases de equivalencia\n",
        "for hash_val, textos in clases_equivalencia.items():\n",
        "    print(f\"Hash: {hash_val} -> Textos: {textos}\")"
      ]
    }
  ],
  "metadata": {
    "colab": {
      "name": "Resumen01.ipynb",
      "provenance": []
    },
    "kernelspec": {
      "display_name": "Python 3",
      "language": "python",
      "name": "python3"
    },
    "language_info": {
      "codemirror_mode": {
        "name": "ipython",
        "version": 3
      },
      "file_extension": ".py",
      "mimetype": "text/x-python",
      "name": "python",
      "nbconvert_exporter": "python",
      "pygments_lexer": "ipython3",
      "version": "3.11.3"
    }
  },
  "nbformat": 4,
  "nbformat_minor": 0
}
